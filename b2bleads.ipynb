{
 "cells": [
  {
   "cell_type": "code",
   "execution_count": 1,
   "metadata": {},
   "outputs": [],
   "source": [
    "import pandas as pd\n",
    "import numpy as np\n",
    "from sklearn.model_selection import train_test_split\n",
    "from sklearn.ensemble import RandomForestClassifier\n",
    "from sklearn.metrics import classification_report\n",
    "from sklearn.preprocessing import LabelEncoder\n",
    "from sklearn.feature_extraction.text import TfidfVectorizer\n",
    "from sklearn.pipeline import FeatureUnion\n",
    "from sklearn.compose import ColumnTransformer\n",
    "from sklearn.preprocessing import StandardScaler\n",
    "import joblib\n",
    "import re\n",
    "from imblearn.over_sampling import SMOTE"
   ]
  },
  {
   "cell_type": "code",
   "execution_count": 2,
   "metadata": {},
   "outputs": [],
   "source": [
    "# 2. Load and clean the dataset\n",
    "df_1 = pd.read_excel(\"C:/Users/HP/Desktop/Hogist/Data For DM.xlsx\", sheet_name=\"Sheet 1\")"
   ]
  },
  {
   "cell_type": "code",
   "execution_count": 3,
   "metadata": {},
   "outputs": [],
   "source": [
    "# Load Excel file\n",
    "excel_file = pd.ExcelFile(\"C:/Users/HP/Desktop/Hogist/Data For DM.xlsx\")"
   ]
  },
  {
   "cell_type": "code",
   "execution_count": 4,
   "metadata": {},
   "outputs": [
    {
     "name": "stdout",
     "output_type": "stream",
     "text": [
      "['Sheet 1', 'Sheet 2', 'Sheet 3', 'Sheet 4', 'Sheet 5', 'sheet 6', 'Sheet 7', 'Sheet 8', 'Sheet 9']\n"
     ]
    }
   ],
   "source": [
    "\n",
    "# Get sheet names (optional)\n",
    "print(excel_file.sheet_names)"
   ]
  },
  {
   "cell_type": "code",
   "execution_count": 5,
   "metadata": {},
   "outputs": [],
   "source": [
    "# Load specific sheets\n",
    "df1 = excel_file.parse(\"Sheet 1\")\n",
    "df2 = excel_file.parse(\"Sheet 2\")\n",
    "# Load specific sheets\n",
    "df3 = excel_file.parse(\"Sheet 3\")\n",
    "df4 = excel_file.parse(\"Sheet 4\")"
   ]
  },
  {
   "cell_type": "code",
   "execution_count": 6,
   "metadata": {},
   "outputs": [],
   "source": [
    "# Combine the sheets (assuming they have the same columns)\n",
    "combined_df = pd.concat([df1, df2, df3, df4], ignore_index=True)"
   ]
  },
  {
   "cell_type": "code",
   "execution_count": 7,
   "metadata": {},
   "outputs": [],
   "source": [
    "# Optional: drop duplicates or reset index\n",
    "combined_df = combined_df.drop_duplicates().reset_index(drop=True)"
   ]
  },
  {
   "cell_type": "code",
   "execution_count": 8,
   "metadata": {},
   "outputs": [
    {
     "name": "stdout",
     "output_type": "stream",
     "text": [
      "   SL NO                 DATE LEAD STATUS  LEADS FROM  \\\n",
      "0    1.0  2023-01-08 00:00:00         COLD     BIVINA   \n",
      "1    2.0  2023-02-08 00:00:00         COLD      AYONA   \n",
      "2    3.0  2023-07-09 00:00:00         COLD      AYONA   \n",
      "3    4.0  2023-07-09 00:00:00         COLD     BIVINA   \n",
      "4    5.0           28-08-2023         COLD      AYONA   \n",
      "\n",
      "                     LOCATION  \\\n",
      "0                     Noombal   \n",
      "1      AMBATTUR & GOPALAPURAM   \n",
      "2                Arumbakkam\\n   \n",
      "3  RMZ Millenia Tech park\\n\\n   \n",
      "4                    Teynapet   \n",
      "\n",
      "                                        COMPANY NAME  \\\n",
      "0                                KAG India pvt ltd\\n   \n",
      "1                        ALCRAFT THERMO TECHNOLOGIES   \n",
      "2                  Aymarkz industrial tech pvt ltd\\n   \n",
      "3                                    Athena Health\\n   \n",
      "4  Co chartered accountants, standard chartered (...   \n",
      "\n",
      "             CONTACT PERSON   PHONE NUMBER  \\\n",
      "0  Hari( Genaral Manager)\\n  9840400678 \\n   \n",
      "1                    PALANI     9791007897   \n",
      "2                Aravinth\\n   8754090965\\n   \n",
      "3          Sundaravadivel\\n   9566092299\\n   \n",
      "4   prashanth krishna Kumar     9500059721   \n",
      "\n",
      "                                 MAIL ID                        REQUIRMENT  \\\n",
      "0                                    NaN                                CC   \n",
      "1                                    NaN       BREAKFAST / LUNCH / DINNER    \n",
      "2     aravinth@aymarkzqualitygroup.com\\n                       bf, lunch\\n   \n",
      "3  rsundaravadivel@athenahealth.com \\n\\n  Daily requirmet -not mentioned\\n   \n",
      "4       prashanthkrishnakumar2@gmail.com                      lunch,dinner   \n",
      "\n",
      "   ... Designation Contact Number EMP Strength Current Strength Requirment  \\\n",
      "0  ...         NaN            NaN          NaN              NaN        NaN   \n",
      "1  ...         NaN            NaN          NaN              NaN        NaN   \n",
      "2  ...         NaN            NaN          NaN              NaN        NaN   \n",
      "3  ...         NaN            NaN          NaN              NaN        NaN   \n",
      "4  ...         NaN            NaN          NaN              NaN        NaN   \n",
      "\n",
      "  COP/CC Remarks Next F/up date Order Status Sourcing Person  \n",
      "0    NaN     NaN            NaN          NaN             NaN  \n",
      "1    NaN     NaN            NaN          NaN             NaN  \n",
      "2    NaN     NaN            NaN          NaN             NaN  \n",
      "3    NaN     NaN            NaN          NaN             NaN  \n",
      "4    NaN     NaN            NaN          NaN             NaN  \n",
      "\n",
      "[5 rows x 65 columns]\n"
     ]
    }
   ],
   "source": [
    "# Preview\n",
    "print(combined_df.head())"
   ]
  },
  {
   "cell_type": "code",
   "execution_count": 9,
   "metadata": {},
   "outputs": [
    {
     "data": {
      "text/plain": [
       "Index([                   'SL NO',                     'DATE',\n",
       "                   'LEAD STATUS ',               'LEADS FROM',\n",
       "                       'LOCATION',             'COMPANY NAME',\n",
       "                 'CONTACT PERSON',             'PHONE NUMBER',\n",
       "                        'MAIL ID',               'REQUIRMENT',\n",
       "                           'TYPE',            'REQUIRED DATE',\n",
       "                     'HEAD COUNT',       'NO OF WORKING DAYS',\n",
       "                  'CLIENT BUDGET',            'VENDOR PRICE ',\n",
       "                           'MENU',                  'REMARKS',\n",
       "              2023-10-08 00:00:00,        2023-11-08 00:00:00,\n",
       "                      '16/8/2023',                '17/8/2023',\n",
       "                      '21/8/2023',                '22/8/2023',\n",
       "              2023-01-09 00:00:00,        2023-05-09 00:00:00,\n",
       "              2023-06-09 00:00:00,                '29/9/2023',\n",
       "              2013-03-10 00:00:00,        2023-12-10 00:00:00,\n",
       "                     '16-10-2023',               '17-10-2023',\n",
       "                     '18-10-2023',               '30-10-2024',\n",
       "                    'Unnamed: 34',             'FOLLOW UP BY',\n",
       "                   'Vendor price', 'OTHER CHARGES FOR HOGIST',\n",
       "              2023-03-10 00:00:00,              'Unnamed: 28',\n",
       "                    'Unnamed: 29',               '31-10-2023',\n",
       "              2023-01-11 00:00:00,                   'BUDGET',\n",
       "                    'Unnamed: 17',              'Unnamed: 18',\n",
       "                    'Unnamed: 19',              'Unnamed: 20',\n",
       "                    'Unnamed: 21',              'Unnamed: 22',\n",
       "                'Date of Meeting',             'Company Name',\n",
       "                       'Location',         'Company Verticle',\n",
       "                 'Contact Person',              'Designation',\n",
       "                 'Contact Number',             'EMP Strength',\n",
       "               'Current Strength',               'Requirment',\n",
       "                         'COP/CC',                  'Remarks',\n",
       "                 'Next F/up date',             'Order Status',\n",
       "                'Sourcing Person'],\n",
       "      dtype='object')"
      ]
     },
     "execution_count": 9,
     "metadata": {},
     "output_type": "execute_result"
    }
   ],
   "source": [
    "combined_df.columns"
   ]
  },
  {
   "cell_type": "code",
   "execution_count": 10,
   "metadata": {},
   "outputs": [],
   "source": [
    "# Assuming 'combined_df' is your final merged DataFrame\n",
    "combined_df.to_excel(\"C:/Users/HP/Desktop/Hogist/Combined_Leads.xlsx\", index=False)"
   ]
  },
  {
   "cell_type": "code",
   "execution_count": 11,
   "metadata": {},
   "outputs": [],
   "source": [
    "# Drop unnamed and date-based columns (keep only string-named columns)\n",
    "df = combined_df.loc[:, combined_df.columns.map(lambda x: isinstance(x, str))]"
   ]
  },
  {
   "cell_type": "code",
   "execution_count": 12,
   "metadata": {},
   "outputs": [
    {
     "data": {
      "text/plain": [
       "array(['Noombal', 'AMBATTUR & GOPALAPURAM', ' Arumbakkam\\n',\n",
       "       'RMZ Millenia Tech park\\n\\n', 'Teynapet', 'Ambattur',\n",
       "       ' Savitha dental college poonamallee high road.',\n",
       "       'Kandanchavadi\\n', ' ambattur\\n', 'Tharamani',\n",
       "       'Padi Chennai Tamil Nadu 600058\\n', ' Ambattur',\n",
       "       'Sidco industrial estate thirumudivakkam', ' Puthulakkam.',\n",
       "       'Kundrathur,AR edaimedai,Thirumudipakkam',\n",
       "       ' Manikam lane, guindy. ', 'Industrial estate Ambattur.',\n",
       "       'No:A-31, MEPZ-SEZ, MEPZ, WEST TAMBARAM,\\n',\n",
       "       'Fayola Towers, 3A, 200 Feet Radial Rd, Pallikaranai',\n",
       "       'IRUNGATTU KOTTAI\\n\\n', 'AMBATTUR & MYLAPORE', 'GUINTY',\n",
       "       ' Industrial EstateAmbattur\\n\\n', 'Industrial Estate ambattur',\n",
       "       'SIDCO industrial estate poonamalle.\\n', 'Ponneri\\n', 'Coimbatore',\n",
       "       'OMR Nehru Nagar Kottivakkam',\n",
       "       'Dowlath Towers 8th floor,Taylors Rd, Kilpauk, Chennai,\\n',\n",
       "       'Riveira Park, 4th Main Rd Ext, Adyar House, Kotturpuram',\n",
       "       'Sipcot Irungattu kottai',\n",
       "       'Ambedkar road,subbaraya nagar,kodambakkam',\n",
       "       'Orakkadu Post, Sholavaram Block, Sekkanjeri,Red hills,karanodai',\n",
       "       'MYLAPORE\\n', 'PAPRAMPAKKAM', 'Pallavaram, Chennai -600044',\n",
       "       'CHETPET', ' Mahindra World City, Thirutheri R.F,Chennai', 'OMR',\n",
       "       'PERUNGUDI INDUSTRIAL ESTATE',\n",
       "       ' Rmz business millinea park campus 1C perungudi thandhi TV building',\n",
       "       'NUNGAMPAKKAM', 'perambur', 'uthamar gandhi salai , nungambakkam',\n",
       "       'Purasaivakkam ', 'Alagappa road,VALSARAKKAM',\n",
       "       'mambakkam, sriperumbudur industrial estate. \\n',\n",
       "       'Thousand light are,greams road,chennai.',\n",
       "       'DLF,Ramapuram,chennai.',\n",
       "       'No. 97 & 98, Kattabomman street,Parvathy Nagar Extn,Old Perungalathur,chennai',\n",
       "       'T. nagar',\n",
       "       ' 67, Bazullah Rd, T. Nagar, Chennai, Tamil Nadu 600017',\n",
       "       ' Ennore', 'Thirumudivakkam', 'Industrial estate, Ambattur.',\n",
       "       ' Thiruvanmiyur',\n",
       "       'Ennore Express highway, Ernavoor, Chennai - 600057', 'Guindy',\n",
       "       'Near EVP Film city,Chembarampakkam.',\n",
       "       'Thiruvallur High Rd, Sai Nagar, Ambattur Industrial Estate, Chennai, ',\n",
       "       'Guindy.', 'Mahindra World City, Chengalpattu, Sengundram',\n",
       "       ' Sriperumpadur', 'IRUNGATUKOTTAI', 'Perungudi',\n",
       "       'Medavakkam road,kovilampakkam.', nan, 'POONAMALLE,CHENNAI\\n',\n",
       "       'RAYAPETT,OMR,AVADI', 'Oragadam,Chengad,poonnamalli', 'Siruseri',\n",
       "       'Porur', 'Poonamallee ', 'Oragadam', 'Ambattur ', 'Egmore',\n",
       "       'Aminjikarai', 'No.31 Brahmin Street Korattur\\n',\n",
       "       '151 SIDCO 12 MAIN ROAD ', 'Tambaram Mepz',\n",
       "       ' SIDCO industrial estate ambattur. ',\n",
       "       'industrial estate ambattur.', 'Saitapet\\n', 'Alandur \\n', 'ECR',\n",
       "       'PORUR', 'Nandhanam', 'Spenzer Plaza', ' SAIRAM COLLAGE TAMBARAM ',\n",
       "       'PALLIKARANAI',\n",
       "       'Tambaram, Mylapore, Chromepet, Medawalkam, Perumbur, Santhome, Marina Beach, Saidapet, Tambaram Leprosy Hospital',\n",
       "       'KUDUVANCHERRY',\n",
       "       '7th FLoor, IIFL Tower, 143, Perungudi, Chennai 600096',\n",
       "       '\\nNumgampakkam', 'Kootturpuram', 'Gst road, alanthur',\n",
       "       'Kodambakkam',\n",
       "       'Hamid Building, 2nd Floor, Anna Street, Thousand Lights, Chennai',\n",
       "       'Neelangarai', 'IITM ,Taramani',\n",
       "       '\\nMohamed Sathak College of Arts and Science(Shollinganallur)\\n',\n",
       "       'Ascendas 12th Floor,taramani', 'Nelson manikam road',\n",
       "       'Thousand lights', 'Thirumullavayil', 'Arumbakkam',\n",
       "       'CODDISSIA COIMBATORE', 'PERUNGUDI', 'ROYAPETTAH', 'TARAMANI',\n",
       "       'West mambalam', 'SANTHOM', 'KARAPAKKAM', 'THIRUMALISAI',\n",
       "       'TEYNAMPET', 'JE', 'POONAMALLE',\n",
       "       'Saravanampatti,Gandhipuram,coimbatore\\n\\n\\n',\n",
       "       \"WorkEZ -The Address, Fourth Floor, \\n'B’ Block, No.203/10B,200 feet MMRD Road, \\nZamin Pallavaram, Chennai -600044\"],\n",
       "      dtype=object)"
      ]
     },
     "execution_count": 12,
     "metadata": {},
     "output_type": "execute_result"
    }
   ],
   "source": [
    "df['LOCATION'].unique()"
   ]
  },
  {
   "cell_type": "code",
   "execution_count": 13,
   "metadata": {},
   "outputs": [
    {
     "data": {
      "text/plain": [
       "Index(['SL NO', 'DATE', 'LEAD STATUS ', 'LEADS FROM', 'LOCATION',\n",
       "       'COMPANY NAME', 'CONTACT PERSON', 'PHONE NUMBER', 'MAIL ID',\n",
       "       'REQUIRMENT', 'TYPE', 'REQUIRED DATE', 'HEAD COUNT',\n",
       "       'NO OF WORKING DAYS', 'CLIENT BUDGET', 'VENDOR PRICE ', 'MENU',\n",
       "       'REMARKS', '16/8/2023', '17/8/2023', '21/8/2023', '22/8/2023',\n",
       "       '29/9/2023', '16-10-2023', '17-10-2023', '18-10-2023', '30-10-2024',\n",
       "       'Unnamed: 34', 'FOLLOW UP BY', 'Vendor price',\n",
       "       'OTHER CHARGES FOR HOGIST', 'Unnamed: 28', 'Unnamed: 29', '31-10-2023',\n",
       "       'BUDGET', 'Unnamed: 17', 'Unnamed: 18', 'Unnamed: 19', 'Unnamed: 20',\n",
       "       'Unnamed: 21', 'Unnamed: 22', 'Date of Meeting', 'Company Name',\n",
       "       'Location', 'Company Verticle', 'Contact Person', 'Designation',\n",
       "       'Contact Number', 'EMP Strength', 'Current Strength', 'Requirment',\n",
       "       'COP/CC', 'Remarks', 'Next F/up date', 'Order Status',\n",
       "       'Sourcing Person'],\n",
       "      dtype='object')"
      ]
     },
     "execution_count": 13,
     "metadata": {},
     "output_type": "execute_result"
    }
   ],
   "source": [
    "df.columns"
   ]
  },
  {
   "cell_type": "code",
   "execution_count": 14,
   "metadata": {},
   "outputs": [],
   "source": [
    "# Clean column names\n",
    "df.columns = [col.strip().lower().replace(\" \", \"_\") for col in df.columns]"
   ]
  },
  {
   "cell_type": "code",
   "execution_count": 15,
   "metadata": {},
   "outputs": [
    {
     "name": "stderr",
     "output_type": "stream",
     "text": [
      "C:\\Users\\HP\\AppData\\Local\\Temp\\ipykernel_14636\\3965781070.py:2: SettingWithCopyWarning: \n",
      "A value is trying to be set on a copy of a slice from a DataFrame.\n",
      "Try using .loc[row_indexer,col_indexer] = value instead\n",
      "\n",
      "See the caveats in the documentation: https://pandas.pydata.org/pandas-docs/stable/user_guide/indexing.html#returning-a-view-versus-a-copy\n",
      "  df[\"converted\"] = np.random.choice([0, 1], size=len(df))\n"
     ]
    }
   ],
   "source": [
    "# Add a dummy target column (converted: 1 or 0)\n",
    "df[\"converted\"] = np.random.choice([0, 1], size=len(df))"
   ]
  },
  {
   "cell_type": "code",
   "execution_count": 16,
   "metadata": {},
   "outputs": [],
   "source": [
    "def clean_text(text):\n",
    "    text = re.sub(r'\\d+', '', text)  # remove numbers\n",
    "    text = re.sub(r'\\s+', ' ', text)  # remove extra spaces\n",
    "    text = text.strip().lower()\n",
    "    return text"
   ]
  },
  {
   "cell_type": "code",
   "execution_count": 17,
   "metadata": {},
   "outputs": [
    {
     "data": {
      "text/html": [
       "<div>\n",
       "<style scoped>\n",
       "    .dataframe tbody tr th:only-of-type {\n",
       "        vertical-align: middle;\n",
       "    }\n",
       "\n",
       "    .dataframe tbody tr th {\n",
       "        vertical-align: top;\n",
       "    }\n",
       "\n",
       "    .dataframe thead th {\n",
       "        text-align: right;\n",
       "    }\n",
       "</style>\n",
       "<table border=\"1\" class=\"dataframe\">\n",
       "  <thead>\n",
       "    <tr style=\"text-align: right;\">\n",
       "      <th></th>\n",
       "      <th>remarks</th>\n",
       "      <th>remarks</th>\n",
       "    </tr>\n",
       "  </thead>\n",
       "  <tbody>\n",
       "    <tr>\n",
       "      <th>0</th>\n",
       "      <td>Meeting Done</td>\n",
       "      <td>NaN</td>\n",
       "    </tr>\n",
       "    <tr>\n",
       "      <th>1</th>\n",
       "      <td>Customer in dilemma on menu and price.</td>\n",
       "      <td>NaN</td>\n",
       "    </tr>\n",
       "    <tr>\n",
       "      <th>2</th>\n",
       "      <td>Profile sent</td>\n",
       "      <td>NaN</td>\n",
       "    </tr>\n",
       "    <tr>\n",
       "      <th>3</th>\n",
       "      <td>Meeting Done -failed</td>\n",
       "      <td>NaN</td>\n",
       "    </tr>\n",
       "    <tr>\n",
       "      <th>4</th>\n",
       "      <td>They will employees bring food from home.Once ...</td>\n",
       "      <td>NaN</td>\n",
       "    </tr>\n",
       "    <tr>\n",
       "      <th>...</th>\n",
       "      <td>...</td>\n",
       "      <td>...</td>\n",
       "    </tr>\n",
       "    <tr>\n",
       "      <th>215</th>\n",
       "      <td>NaN</td>\n",
       "      <td>Order Confirmed (Trail service starts from 02/...</td>\n",
       "    </tr>\n",
       "    <tr>\n",
       "      <th>216</th>\n",
       "      <td>NaN</td>\n",
       "      <td>Waiting for price confirmation from the client.</td>\n",
       "    </tr>\n",
       "    <tr>\n",
       "      <th>217</th>\n",
       "      <td>NaN</td>\n",
       "      <td>Waiting for vendor price</td>\n",
       "    </tr>\n",
       "    <tr>\n",
       "      <th>218</th>\n",
       "      <td>NaN</td>\n",
       "      <td>Waiting for the pricing confirmation from the ...</td>\n",
       "    </tr>\n",
       "    <tr>\n",
       "      <th>219</th>\n",
       "      <td>NaN</td>\n",
       "      <td>Order Cancelled</td>\n",
       "    </tr>\n",
       "  </tbody>\n",
       "</table>\n",
       "<p>220 rows × 2 columns</p>\n",
       "</div>"
      ],
      "text/plain": [
       "                                               remarks  \\\n",
       "0                                         Meeting Done   \n",
       "1              Customer in dilemma on menu and price.    \n",
       "2                                         Profile sent   \n",
       "3                                Meeting Done -failed    \n",
       "4    They will employees bring food from home.Once ...   \n",
       "..                                                 ...   \n",
       "215                                                NaN   \n",
       "216                                                NaN   \n",
       "217                                                NaN   \n",
       "218                                                NaN   \n",
       "219                                                NaN   \n",
       "\n",
       "                                               remarks  \n",
       "0                                                  NaN  \n",
       "1                                                  NaN  \n",
       "2                                                  NaN  \n",
       "3                                                  NaN  \n",
       "4                                                  NaN  \n",
       "..                                                 ...  \n",
       "215  Order Confirmed (Trail service starts from 02/...  \n",
       "216    Waiting for price confirmation from the client.  \n",
       "217                           Waiting for vendor price  \n",
       "218  Waiting for the pricing confirmation from the ...  \n",
       "219                                    Order Cancelled  \n",
       "\n",
       "[220 rows x 2 columns]"
      ]
     },
     "execution_count": 17,
     "metadata": {},
     "output_type": "execute_result"
    }
   ],
   "source": [
    "df['remarks']"
   ]
  },
  {
   "cell_type": "code",
   "execution_count": 18,
   "metadata": {},
   "outputs": [],
   "source": [
    "# Normalize all column headers\n",
    "df.columns = [col.strip().lower().replace(\" \", \"_\") for col in df.columns]"
   ]
  },
  {
   "cell_type": "code",
   "execution_count": 19,
   "metadata": {},
   "outputs": [
    {
     "name": "stdout",
     "output_type": "stream",
     "text": [
      "['sl_no', 'date', 'lead_status', 'leads_from', 'location', 'company_name', 'contact_person', 'phone_number', 'mail_id', 'requirment', 'type', 'required_date', 'head_count', 'no_of_working_days', 'client_budget', 'vendor_price', 'menu', 'remarks', '16/8/2023', '17/8/2023', '21/8/2023', '22/8/2023', '29/9/2023', '16-10-2023', '17-10-2023', '18-10-2023', '30-10-2024', 'unnamed:_34', 'follow_up_by', 'vendor_price', 'other_charges_for_hogist', 'unnamed:_28', 'unnamed:_29', '31-10-2023', 'budget', 'unnamed:_17', 'unnamed:_18', 'unnamed:_19', 'unnamed:_20', 'unnamed:_21', 'unnamed:_22', 'date_of_meeting', 'company_name', 'location', 'company_verticle', 'contact_person', 'designation', 'contact_number', 'emp_strength', 'current_strength', 'requirment', 'cop/cc', 'remarks', 'next_f/up_date', 'order_status', 'sourcing_person', 'converted']\n"
     ]
    }
   ],
   "source": [
    "print(df.columns.tolist())"
   ]
  },
  {
   "cell_type": "code",
   "execution_count": 20,
   "metadata": {},
   "outputs": [
    {
     "name": "stdout",
     "output_type": "stream",
     "text": [
      "Index(['vendor_price', 'company_name', 'location', 'contact_person',\n",
      "       'requirment', 'remarks'],\n",
      "      dtype='object')\n"
     ]
    }
   ],
   "source": [
    "print(df.columns[df.columns.duplicated()])"
   ]
  },
  {
   "cell_type": "code",
   "execution_count": 21,
   "metadata": {},
   "outputs": [],
   "source": [
    "df = df.loc[:, ~df.columns.duplicated()]"
   ]
  },
  {
   "cell_type": "code",
   "execution_count": 22,
   "metadata": {},
   "outputs": [
    {
     "data": {
      "text/plain": [
       "Index(['sl_no', 'date', 'lead_status', 'leads_from', 'location',\n",
       "       'company_name', 'contact_person', 'phone_number', 'mail_id',\n",
       "       'requirment', 'type', 'required_date', 'head_count',\n",
       "       'no_of_working_days', 'client_budget', 'vendor_price', 'menu',\n",
       "       'remarks', '16/8/2023', '17/8/2023', '21/8/2023', '22/8/2023',\n",
       "       '29/9/2023', '16-10-2023', '17-10-2023', '18-10-2023', '30-10-2024',\n",
       "       'unnamed:_34', 'follow_up_by', 'other_charges_for_hogist',\n",
       "       'unnamed:_28', 'unnamed:_29', '31-10-2023', 'budget', 'unnamed:_17',\n",
       "       'unnamed:_18', 'unnamed:_19', 'unnamed:_20', 'unnamed:_21',\n",
       "       'unnamed:_22', 'date_of_meeting', 'company_verticle', 'designation',\n",
       "       'contact_number', 'emp_strength', 'current_strength', 'cop/cc',\n",
       "       'next_f/up_date', 'order_status', 'sourcing_person', 'converted'],\n",
       "      dtype='object')"
      ]
     },
     "execution_count": 22,
     "metadata": {},
     "output_type": "execute_result"
    }
   ],
   "source": [
    "df.columns"
   ]
  },
  {
   "cell_type": "code",
   "execution_count": 23,
   "metadata": {},
   "outputs": [
    {
     "data": {
      "text/plain": [
       "array(['Noombal', 'AMBATTUR & GOPALAPURAM', ' Arumbakkam\\n',\n",
       "       'RMZ Millenia Tech park\\n\\n', 'Teynapet', 'Ambattur',\n",
       "       ' Savitha dental college poonamallee high road.',\n",
       "       'Kandanchavadi\\n', ' ambattur\\n', 'Tharamani',\n",
       "       'Padi Chennai Tamil Nadu 600058\\n', ' Ambattur',\n",
       "       'Sidco industrial estate thirumudivakkam', ' Puthulakkam.',\n",
       "       'Kundrathur,AR edaimedai,Thirumudipakkam',\n",
       "       ' Manikam lane, guindy. ', 'Industrial estate Ambattur.',\n",
       "       'No:A-31, MEPZ-SEZ, MEPZ, WEST TAMBARAM,\\n',\n",
       "       'Fayola Towers, 3A, 200 Feet Radial Rd, Pallikaranai',\n",
       "       'IRUNGATTU KOTTAI\\n\\n', 'AMBATTUR & MYLAPORE', 'GUINTY',\n",
       "       ' Industrial EstateAmbattur\\n\\n', 'Industrial Estate ambattur',\n",
       "       'SIDCO industrial estate poonamalle.\\n', 'Ponneri\\n', 'Coimbatore',\n",
       "       'OMR Nehru Nagar Kottivakkam',\n",
       "       'Dowlath Towers 8th floor,Taylors Rd, Kilpauk, Chennai,\\n',\n",
       "       'Riveira Park, 4th Main Rd Ext, Adyar House, Kotturpuram',\n",
       "       'Sipcot Irungattu kottai',\n",
       "       'Ambedkar road,subbaraya nagar,kodambakkam',\n",
       "       'Orakkadu Post, Sholavaram Block, Sekkanjeri,Red hills,karanodai',\n",
       "       'MYLAPORE\\n', 'PAPRAMPAKKAM', 'Pallavaram, Chennai -600044',\n",
       "       'CHETPET', ' Mahindra World City, Thirutheri R.F,Chennai', 'OMR',\n",
       "       'PERUNGUDI INDUSTRIAL ESTATE',\n",
       "       ' Rmz business millinea park campus 1C perungudi thandhi TV building',\n",
       "       'NUNGAMPAKKAM', 'perambur', 'uthamar gandhi salai , nungambakkam',\n",
       "       'Purasaivakkam ', 'Alagappa road,VALSARAKKAM',\n",
       "       'mambakkam, sriperumbudur industrial estate. \\n',\n",
       "       'Thousand light are,greams road,chennai.',\n",
       "       'DLF,Ramapuram,chennai.',\n",
       "       'No. 97 & 98, Kattabomman street,Parvathy Nagar Extn,Old Perungalathur,chennai',\n",
       "       'T. nagar',\n",
       "       ' 67, Bazullah Rd, T. Nagar, Chennai, Tamil Nadu 600017',\n",
       "       ' Ennore', 'Thirumudivakkam', 'Industrial estate, Ambattur.',\n",
       "       ' Thiruvanmiyur',\n",
       "       'Ennore Express highway, Ernavoor, Chennai - 600057', 'Guindy',\n",
       "       'Near EVP Film city,Chembarampakkam.',\n",
       "       'Thiruvallur High Rd, Sai Nagar, Ambattur Industrial Estate, Chennai, ',\n",
       "       'Guindy.', 'Mahindra World City, Chengalpattu, Sengundram',\n",
       "       ' Sriperumpadur', 'IRUNGATUKOTTAI', 'Perungudi',\n",
       "       'Medavakkam road,kovilampakkam.', nan, 'POONAMALLE,CHENNAI\\n',\n",
       "       'RAYAPETT,OMR,AVADI', 'Oragadam,Chengad,poonnamalli', 'Siruseri',\n",
       "       'Porur', 'Poonamallee ', 'Oragadam', 'Ambattur ', 'Egmore',\n",
       "       'Aminjikarai', 'No.31 Brahmin Street Korattur\\n',\n",
       "       '151 SIDCO 12 MAIN ROAD ', 'Tambaram Mepz',\n",
       "       ' SIDCO industrial estate ambattur. ',\n",
       "       'industrial estate ambattur.', 'Saitapet\\n', 'Alandur \\n', 'ECR',\n",
       "       'PORUR', 'Nandhanam', 'Spenzer Plaza', ' SAIRAM COLLAGE TAMBARAM ',\n",
       "       'PALLIKARANAI',\n",
       "       'Tambaram, Mylapore, Chromepet, Medawalkam, Perumbur, Santhome, Marina Beach, Saidapet, Tambaram Leprosy Hospital',\n",
       "       'KUDUVANCHERRY',\n",
       "       '7th FLoor, IIFL Tower, 143, Perungudi, Chennai 600096',\n",
       "       '\\nNumgampakkam', 'Kootturpuram', 'Gst road, alanthur',\n",
       "       'Kodambakkam',\n",
       "       'Hamid Building, 2nd Floor, Anna Street, Thousand Lights, Chennai',\n",
       "       'Neelangarai', 'IITM ,Taramani',\n",
       "       '\\nMohamed Sathak College of Arts and Science(Shollinganallur)\\n',\n",
       "       'Ascendas 12th Floor,taramani', 'Nelson manikam road',\n",
       "       'Thousand lights', 'Thirumullavayil', 'Arumbakkam',\n",
       "       'CODDISSIA COIMBATORE', 'PERUNGUDI', 'ROYAPETTAH', 'TARAMANI',\n",
       "       'West mambalam', 'SANTHOM', 'KARAPAKKAM', 'THIRUMALISAI',\n",
       "       'TEYNAMPET', 'JE', 'POONAMALLE',\n",
       "       'Saravanampatti,Gandhipuram,coimbatore\\n\\n\\n',\n",
       "       \"WorkEZ -The Address, Fourth Floor, \\n'B’ Block, No.203/10B,200 feet MMRD Road, \\nZamin Pallavaram, Chennai -600044\"],\n",
       "      dtype=object)"
      ]
     },
     "execution_count": 23,
     "metadata": {},
     "output_type": "execute_result"
    }
   ],
   "source": [
    "df['location'].unique()"
   ]
  },
  {
   "cell_type": "code",
   "execution_count": 24,
   "metadata": {},
   "outputs": [],
   "source": [
    "# Fill missing values\n",
    "\n",
    "df[\"remarks\"] = df[\"remarks\"].fillna(\"none\").apply(lambda x: clean_text(str(x)))\n",
    "df[\"requirment\"] = df[\"requirment\"].fillna(\"unknown\")\n",
    "df[\"company_name\"] = df[\"company_name\"].fillna(\"unknown\")\n",
    "df[\"location\"] = df[\"location\"].fillna(\"unknown\")\n",
    "df[\"lead_status\"] = df[\"lead_status\"].fillna(\"unknown\")\n",
    "df[\"head_count\"] = pd.to_numeric(df[\"head_count\"], errors='coerce').fillna(0).astype(int)\n",
    "df[\"client_budget\"] = pd.to_numeric(df[\"client_budget\"], errors='coerce').fillna(0)\n"
   ]
  },
  {
   "cell_type": "code",
   "execution_count": 25,
   "metadata": {},
   "outputs": [
    {
     "name": "stdout",
     "output_type": "stream",
     "text": [
      "['COLD' 'Not interested ' 'WON' 'Hot ' 'Hot' 'cOLD' 'WARM' 'HOT'\n",
      " 'NOT INTERESTED' 'NOT INTERESTED ' 'WON ' 'Won' 'won' 'unknown']\n"
     ]
    }
   ],
   "source": [
    "print(df[\"lead_status\"].unique())\n"
   ]
  },
  {
   "cell_type": "code",
   "execution_count": 26,
   "metadata": {},
   "outputs": [],
   "source": [
    "# Normalize and map all statuses to cleaned categories\n",
    "def map_lead_status(status):\n",
    "    status = status.strip().lower()\n",
    "    if status in [\"hot\", \"won\"]:\n",
    "        return \"converted\"\n",
    "    elif status == \"warm\":\n",
    "        return \"in_progress\"\n",
    "    elif \"not interested\" in status:\n",
    "        return \"not_interested\"\n",
    "    else:\n",
    "        return \"new\"\n",
    "\n",
    "# Apply mapping\n",
    "df[\"converted\"] = df[\"lead_status\"].apply(map_lead_status)\n"
   ]
  },
  {
   "cell_type": "code",
   "execution_count": 27,
   "metadata": {},
   "outputs": [],
   "source": [
    "# Map string labels to numerical classes\n",
    "status_to_num = {\n",
    "    \"not_interested\": 0,\n",
    "    \"converted\": 1,\n",
    "    \"in_progress\": 2,\n",
    "    \"new\": 3\n",
    "}\n",
    "df[\"converted_num\"] = df[\"converted\"].map(status_to_num)\n",
    "y = df[\"converted_num\"]\n"
   ]
  },
  {
   "cell_type": "code",
   "execution_count": 28,
   "metadata": {},
   "outputs": [],
   "source": [
    "#df[\"converted\"] = df[\"lead_status\"].str.lower().apply(\n",
    "    #lambda x: 1 if x in [\"hot\", \"cold\", \"won\", \"warm\", \"not interested\"] else 0\n",
    "#)"
   ]
  },
  {
   "cell_type": "code",
   "execution_count": 29,
   "metadata": {},
   "outputs": [],
   "source": [
    "# 3. Feature selection\n",
    "features = [\n",
    "    \"location\", \"company_name\", \"remarks\", \"lead_status\",\n",
    "    \"head_count\", \"client_budget\"\n",
    "]\n",
    "target = \"converted_num\"\n",
    "\n",
    "X = df[features]\n",
    "y = df[target]"
   ]
  },
  {
   "cell_type": "code",
   "execution_count": 30,
   "metadata": {},
   "outputs": [],
   "source": [
    "# 4. Preprocessing pipeline\n",
    "text_features = [\"remarks\",\"requirment\"]\n",
    "categorical_features = [\"location\", \"company_name\", \"lead_status\"]\n",
    "numeric_features = [\"head_count\", \"client_budget\"]\n",
    "\n",
    "preprocessor = ColumnTransformer(\n",
    "    transformers=[\n",
    "        (\"text\", TfidfVectorizer(), \"remarks\"),\n",
    "        (\"cat\", ColumnTransformer(\n",
    "            [(\"label_enc\", LabelEncoder(), col) for col in categorical_features], remainder=\"drop\"), categorical_features),\n",
    "        (\"num\", StandardScaler(), numeric_features)\n",
    "    ]\n",
    ")"
   ]
  },
  {
   "cell_type": "code",
   "execution_count": 31,
   "metadata": {},
   "outputs": [
    {
     "name": "stderr",
     "output_type": "stream",
     "text": [
      "C:\\Users\\HP\\AppData\\Local\\Temp\\ipykernel_14636\\448829556.py:6: SettingWithCopyWarning: \n",
      "A value is trying to be set on a copy of a slice from a DataFrame.\n",
      "Try using .loc[row_indexer,col_indexer] = value instead\n",
      "\n",
      "See the caveats in the documentation: https://pandas.pydata.org/pandas-docs/stable/user_guide/indexing.html#returning-a-view-versus-a-copy\n",
      "  X[col] = le.fit_transform(X[col].astype(str))\n",
      "C:\\Users\\HP\\AppData\\Local\\Temp\\ipykernel_14636\\448829556.py:6: SettingWithCopyWarning: \n",
      "A value is trying to be set on a copy of a slice from a DataFrame.\n",
      "Try using .loc[row_indexer,col_indexer] = value instead\n",
      "\n",
      "See the caveats in the documentation: https://pandas.pydata.org/pandas-docs/stable/user_guide/indexing.html#returning-a-view-versus-a-copy\n",
      "  X[col] = le.fit_transform(X[col].astype(str))\n",
      "C:\\Users\\HP\\AppData\\Local\\Temp\\ipykernel_14636\\448829556.py:6: SettingWithCopyWarning: \n",
      "A value is trying to be set on a copy of a slice from a DataFrame.\n",
      "Try using .loc[row_indexer,col_indexer] = value instead\n",
      "\n",
      "See the caveats in the documentation: https://pandas.pydata.org/pandas-docs/stable/user_guide/indexing.html#returning-a-view-versus-a-copy\n",
      "  X[col] = le.fit_transform(X[col].astype(str))\n"
     ]
    }
   ],
   "source": [
    "for col in categorical_features:\n",
    "    le = LabelEncoder()\n",
    "    if isinstance(X[col], pd.DataFrame):\n",
    "        X[col] = le.fit_transform(X[col].iloc[:, 0])  # if it's accidentally a DataFrame, get the first column\n",
    "    else:\n",
    "        X[col] = le.fit_transform(X[col].astype(str))\n"
   ]
  },
  {
   "cell_type": "code",
   "execution_count": 32,
   "metadata": {},
   "outputs": [],
   "source": [
    "# TF-IDF for remarks\n",
    "tfidf = TfidfVectorizer(stop_words=\"english\",\n",
    "    max_features=100,\n",
    "    ngram_range=(1, 2))\n",
    "tfidf_matrix = tfidf.fit_transform(df[\"remarks\"])  # shape: (220, 100) ✅"
   ]
  },
  {
   "cell_type": "code",
   "execution_count": 33,
   "metadata": {},
   "outputs": [],
   "source": [
    "def clean_location(text):\n",
    "    return text.strip().lower().replace(\"\\n\", \"\").replace(\".\", \"\").replace(\",\", \"\")\n",
    "\n",
    "def clean_company_name(text):\n",
    "    return text.strip().lower().replace(\"\\n\", \"\").replace(\".\", \"\").replace(\",\", \"\")\n",
    "\n",
    "def clean_lead_status(text):\n",
    "    return text.strip().lower().replace(\"\\n\", \"\").replace(\".\", \"\").replace(\",\", \"\")"
   ]
  },
  {
   "cell_type": "code",
   "execution_count": 34,
   "metadata": {},
   "outputs": [
    {
     "data": {
      "text/plain": [
       "['lead_status_encoder.pkl']"
      ]
     },
     "execution_count": 34,
     "metadata": {},
     "output_type": "execute_result"
    }
   ],
   "source": [
    "company_encoder = LabelEncoder()\n",
    "df[\"company_name_encoder\"] = df[\"company_name\"].astype(str).apply(clean_company_name)\n",
    "company_encoder.fit(df[\"company_name_encoder\"])\n",
    "\n",
    "# Save it\n",
    "joblib.dump(company_encoder, \"company_encoder.pkl\")\n",
    "\n",
    "location_encoder = LabelEncoder()\n",
    "df[\"location_name_encoder\"] = df[\"location\"].astype(str).apply(clean_location)\n",
    "location_encoder.fit_transform(df[\"location_name_encoder\"])\n",
    "\n",
    "joblib.dump(location_encoder, \"location_encoder.pkl\")\n",
    "\n",
    "status_encoder = LabelEncoder()\n",
    "df[\"lead_status_encoder\"] = df[\"lead_status\"].astype(str).apply(clean_lead_status)\n",
    "status_encoder.fit(df[\"lead_status_encoder\"])\n",
    "\n",
    "# Save it\n",
    "joblib.dump(status_encoder, \"lead_status_encoder.pkl\")"
   ]
  },
  {
   "cell_type": "code",
   "execution_count": 35,
   "metadata": {},
   "outputs": [
    {
     "data": {
      "text/plain": [
       "array(['kag india pvt ltd', 'alcraft thermo technologies',\n",
       "       'aymarkz industrial tech pvt ltd', 'athena health',\n",
       "       'co chartered accountants standard chartered ( there are 4 branches',\n",
       "       'on load gears', 'cross manufacturing company',\n",
       "       'dun & bradstreet technologies and data services',\n",
       "       'electro flux equipments pvt ltd', 'jeevan pack systems',\n",
       "       'datatracks services private limited', 'metallic components',\n",
       "       'bharath coal chemicals ltdd', 'eucare pharmacuticals(p)ltd',\n",
       "       'softgel healthcare pvt ltd', 'fine tech enterprises',\n",
       "       'mashiv moulds  dies', 'quadsel system pvt ltd(software company)',\n",
       "       'zymass auto systems', 'quintessence fragrances (p) ltd',\n",
       "       'technerds solutions private limited', 'esga pharma',\n",
       "       'gourmet popcornica llp', 'htl ltd', 'kun aerospace pvt ltd',\n",
       "       'vortex engineering pvt ltd', 'ostberg india pvt ltd',\n",
       "       'nissei electric india p ltd',\n",
       "       'mektron manufacturing india pvt ltd',\n",
       "       'celestiel souvenirs pvt ltd', 'sourcehov', 'western thompson',\n",
       "       'maha hydraulics pvt ltd', 've commercial vehicles',\n",
       "       'expanda stand pvt ltd', 'katariya associates pvt ltd',\n",
       "       'kvts automatic pvt ltd', 'botminds ai technologies pvt ltd',\n",
       "       'kpmg india private limited', 'spirax sarco india pvt ltd',\n",
       "       'ak enterprises', 'epsilon engineering', 'mcdermott',\n",
       "       'il & fs tamilnadu power company limited',\n",
       "       'vasavi easy world ehs engineering pvt ltd',\n",
       "       'riskspan india pvt ltd', 'general traders chennai pvt ltd',\n",
       "       'gt group chennai', 'galaxy platform pvt ltd', 'project 44', 'cgi',\n",
       "       'genuine biosystem private limited',\n",
       "       'savvysoft technology (vivaiat india)', 'refex group of companies',\n",
       "       'hindhuja global solutions', 'ramyaa electro gear pvt ltd',\n",
       "       'ai optics pvt ltd', 'proglint software solution',\n",
       "       'piramal pharma ltd', 'eversendai construction pvt ltd',\n",
       "       'southern agro engine pvt ltd',\n",
       "       'globe engineering solutions pvt ltd', 'motorq startup',\n",
       "       'ravel electronics private limited soa electronic',\n",
       "       'metecno india', 'mipalloy', 'innovance technologies',\n",
       "       'baliga lightings equipments pvt ltd', 'vaasum soft tech pvt ltd',\n",
       "       'ace tech heavy fab pvt ltd', 'dra homes', 'johnson lift', 'tvs',\n",
       "       'sopra steria', 'balaji pressings', 'qmax systems india pvt ltd',\n",
       "       'gurit pvt ltd', 'sun fab india pvt ltd', 'unknown',\n",
       "       'geodis india pvt ltd', 'talent pro',\n",
       "       'a w faber castell india pvt ltd (regional office)',\n",
       "       'rakki interiors', 'k r r engineering pvt ltd',\n",
       "       'fi auto components (p) ltd', 'gislen software',\n",
       "       'astroved com pvt ltd', 'ceecons india',\n",
       "       'usha fire safety equipments private limited', 'engagement',\n",
       "       'overseas courier service india pvt ltd', 'sbi porur', 'crisil',\n",
       "       'pnb bank', 'consul neowatt power solutions pvtltd',\n",
       "       'marriage event', 'rrp housing india pvt ltd',\n",
       "       'guidewire software solutions india pvt limited', 'get together',\n",
       "       'sbi', 'kothari petro chemicals', 'global school of navigation',\n",
       "       'house event', 'national insurance company', 'valakappu',\n",
       "       'family event', 'house warming event', 'tie chennai', 'lenox',\n",
       "       'project44', 'dental expo', 'lennox', 'ayurvedasramam',\n",
       "       'office lunch', 'stsanthom church', 'ability engineering', 'ag &p',\n",
       "       'cavincare', 'gourmet', 'je event', 'aminjikarai',\n",
       "       '151 sidco 12 main road', 'tambaram mepz', 'ecr', 'porur',\n",
       "       'nandhanam', 'numgampakkam'], dtype=object)"
      ]
     },
     "execution_count": 35,
     "metadata": {},
     "output_type": "execute_result"
    }
   ],
   "source": [
    "df[\"company_name_encoder\"].unique()"
   ]
  },
  {
   "cell_type": "code",
   "execution_count": 36,
   "metadata": {},
   "outputs": [
    {
     "data": {
      "text/plain": [
       "array(['noombal', 'ambattur & gopalapuram', 'arumbakkam',\n",
       "       'rmz millenia tech park', 'teynapet', 'ambattur',\n",
       "       'savitha dental college poonamallee high road', 'kandanchavadi',\n",
       "       'tharamani', 'padi chennai tamil nadu 600058',\n",
       "       'sidco industrial estate thirumudivakkam', 'puthulakkam',\n",
       "       'kundrathurar edaimedaithirumudipakkam', 'manikam lane guindy',\n",
       "       'industrial estate ambattur',\n",
       "       'no:a-31 mepz-sez mepz west tambaram',\n",
       "       'fayola towers 3a 200 feet radial rd pallikaranai',\n",
       "       'irungattu kottai', 'ambattur & mylapore', 'guinty',\n",
       "       'industrial estateambattur', 'sidco industrial estate poonamalle',\n",
       "       'ponneri', 'coimbatore', 'omr nehru nagar kottivakkam',\n",
       "       'dowlath towers 8th floortaylors rd kilpauk chennai',\n",
       "       'riveira park 4th main rd ext adyar house kotturpuram',\n",
       "       'sipcot irungattu kottai',\n",
       "       'ambedkar roadsubbaraya nagarkodambakkam',\n",
       "       'orakkadu post sholavaram block sekkanjerired hillskaranodai',\n",
       "       'mylapore', 'paprampakkam', 'pallavaram chennai -600044',\n",
       "       'chetpet', 'mahindra world city thirutheri rfchennai', 'omr',\n",
       "       'perungudi industrial estate',\n",
       "       'rmz business millinea park campus 1c perungudi thandhi tv building',\n",
       "       'nungampakkam', 'perambur', 'uthamar gandhi salai  nungambakkam',\n",
       "       'purasaivakkam', 'alagappa roadvalsarakkam',\n",
       "       'mambakkam sriperumbudur industrial estate',\n",
       "       'thousand light aregreams roadchennai', 'dlframapuramchennai',\n",
       "       'no 97 & 98 kattabomman streetparvathy nagar extnold perungalathurchennai',\n",
       "       't nagar', '67 bazullah rd t nagar chennai tamil nadu 600017',\n",
       "       'ennore', 'thirumudivakkam', 'thiruvanmiyur',\n",
       "       'ennore express highway ernavoor chennai - 600057', 'guindy',\n",
       "       'near evp film citychembarampakkam',\n",
       "       'thiruvallur high rd sai nagar ambattur industrial estate chennai',\n",
       "       'mahindra world city chengalpattu sengundram', 'sriperumpadur',\n",
       "       'irungatukottai', 'perungudi', 'medavakkam roadkovilampakkam',\n",
       "       'unknown', 'poonamallechennai', 'rayapettomravadi',\n",
       "       'oragadamchengadpoonnamalli', 'siruseri', 'porur', 'poonamallee',\n",
       "       'oragadam', 'egmore', 'aminjikarai',\n",
       "       'no31 brahmin street korattur', '151 sidco 12 main road',\n",
       "       'tambaram mepz', 'sidco industrial estate ambattur', 'saitapet',\n",
       "       'alandur', 'ecr', 'nandhanam', 'spenzer plaza',\n",
       "       'sairam collage tambaram', 'pallikaranai',\n",
       "       'tambaram mylapore chromepet medawalkam perumbur santhome marina beach saidapet tambaram leprosy hospital',\n",
       "       'kuduvancherry',\n",
       "       '7th floor iifl tower 143 perungudi chennai 600096',\n",
       "       'numgampakkam', 'kootturpuram', 'gst road alanthur', 'kodambakkam',\n",
       "       'hamid building 2nd floor anna street thousand lights chennai',\n",
       "       'neelangarai', 'iitm taramani',\n",
       "       'mohamed sathak college of arts and science(shollinganallur)',\n",
       "       'ascendas 12th floortaramani', 'nelson manikam road',\n",
       "       'thousand lights', 'thirumullavayil', 'coddissia coimbatore',\n",
       "       'royapettah', 'taramani', 'west mambalam', 'santhom', 'karapakkam',\n",
       "       'thirumalisai', 'teynampet', 'je', 'poonamalle',\n",
       "       'saravanampattigandhipuramcoimbatore',\n",
       "       \"workez -the address fourth floor 'b’ block no203/10b200 feet mmrd road zamin pallavaram chennai -600044\"],\n",
       "      dtype=object)"
      ]
     },
     "execution_count": 36,
     "metadata": {},
     "output_type": "execute_result"
    }
   ],
   "source": [
    "df[\"location_name_encoder\"].unique()"
   ]
  },
  {
   "cell_type": "code",
   "execution_count": 37,
   "metadata": {},
   "outputs": [],
   "source": [
    "# Combine features\n",
    "X_combined = np.hstack([\n",
    "    tfidf_matrix.toarray(),\n",
    "    X[categorical_features + numeric_features].values\n",
    "])\n"
   ]
  },
  {
   "cell_type": "code",
   "execution_count": 38,
   "metadata": {},
   "outputs": [],
   "source": [
    "# 5. Split the data\n",
    "X_train, X_test, y_train, y_test = train_test_split(X_combined, y, test_size=0.2, random_state=42)"
   ]
  },
  {
   "cell_type": "code",
   "execution_count": 39,
   "metadata": {},
   "outputs": [
    {
     "data": {
      "text/html": [
       "<style>#sk-container-id-1 {\n",
       "  /* Definition of color scheme common for light and dark mode */\n",
       "  --sklearn-color-text: black;\n",
       "  --sklearn-color-line: gray;\n",
       "  /* Definition of color scheme for unfitted estimators */\n",
       "  --sklearn-color-unfitted-level-0: #fff5e6;\n",
       "  --sklearn-color-unfitted-level-1: #f6e4d2;\n",
       "  --sklearn-color-unfitted-level-2: #ffe0b3;\n",
       "  --sklearn-color-unfitted-level-3: chocolate;\n",
       "  /* Definition of color scheme for fitted estimators */\n",
       "  --sklearn-color-fitted-level-0: #f0f8ff;\n",
       "  --sklearn-color-fitted-level-1: #d4ebff;\n",
       "  --sklearn-color-fitted-level-2: #b3dbfd;\n",
       "  --sklearn-color-fitted-level-3: cornflowerblue;\n",
       "\n",
       "  /* Specific color for light theme */\n",
       "  --sklearn-color-text-on-default-background: var(--sg-text-color, var(--theme-code-foreground, var(--jp-content-font-color1, black)));\n",
       "  --sklearn-color-background: var(--sg-background-color, var(--theme-background, var(--jp-layout-color0, white)));\n",
       "  --sklearn-color-border-box: var(--sg-text-color, var(--theme-code-foreground, var(--jp-content-font-color1, black)));\n",
       "  --sklearn-color-icon: #696969;\n",
       "\n",
       "  @media (prefers-color-scheme: dark) {\n",
       "    /* Redefinition of color scheme for dark theme */\n",
       "    --sklearn-color-text-on-default-background: var(--sg-text-color, var(--theme-code-foreground, var(--jp-content-font-color1, white)));\n",
       "    --sklearn-color-background: var(--sg-background-color, var(--theme-background, var(--jp-layout-color0, #111)));\n",
       "    --sklearn-color-border-box: var(--sg-text-color, var(--theme-code-foreground, var(--jp-content-font-color1, white)));\n",
       "    --sklearn-color-icon: #878787;\n",
       "  }\n",
       "}\n",
       "\n",
       "#sk-container-id-1 {\n",
       "  color: var(--sklearn-color-text);\n",
       "}\n",
       "\n",
       "#sk-container-id-1 pre {\n",
       "  padding: 0;\n",
       "}\n",
       "\n",
       "#sk-container-id-1 input.sk-hidden--visually {\n",
       "  border: 0;\n",
       "  clip: rect(1px 1px 1px 1px);\n",
       "  clip: rect(1px, 1px, 1px, 1px);\n",
       "  height: 1px;\n",
       "  margin: -1px;\n",
       "  overflow: hidden;\n",
       "  padding: 0;\n",
       "  position: absolute;\n",
       "  width: 1px;\n",
       "}\n",
       "\n",
       "#sk-container-id-1 div.sk-dashed-wrapped {\n",
       "  border: 1px dashed var(--sklearn-color-line);\n",
       "  margin: 0 0.4em 0.5em 0.4em;\n",
       "  box-sizing: border-box;\n",
       "  padding-bottom: 0.4em;\n",
       "  background-color: var(--sklearn-color-background);\n",
       "}\n",
       "\n",
       "#sk-container-id-1 div.sk-container {\n",
       "  /* jupyter's `normalize.less` sets `[hidden] { display: none; }`\n",
       "     but bootstrap.min.css set `[hidden] { display: none !important; }`\n",
       "     so we also need the `!important` here to be able to override the\n",
       "     default hidden behavior on the sphinx rendered scikit-learn.org.\n",
       "     See: https://github.com/scikit-learn/scikit-learn/issues/21755 */\n",
       "  display: inline-block !important;\n",
       "  position: relative;\n",
       "}\n",
       "\n",
       "#sk-container-id-1 div.sk-text-repr-fallback {\n",
       "  display: none;\n",
       "}\n",
       "\n",
       "div.sk-parallel-item,\n",
       "div.sk-serial,\n",
       "div.sk-item {\n",
       "  /* draw centered vertical line to link estimators */\n",
       "  background-image: linear-gradient(var(--sklearn-color-text-on-default-background), var(--sklearn-color-text-on-default-background));\n",
       "  background-size: 2px 100%;\n",
       "  background-repeat: no-repeat;\n",
       "  background-position: center center;\n",
       "}\n",
       "\n",
       "/* Parallel-specific style estimator block */\n",
       "\n",
       "#sk-container-id-1 div.sk-parallel-item::after {\n",
       "  content: \"\";\n",
       "  width: 100%;\n",
       "  border-bottom: 2px solid var(--sklearn-color-text-on-default-background);\n",
       "  flex-grow: 1;\n",
       "}\n",
       "\n",
       "#sk-container-id-1 div.sk-parallel {\n",
       "  display: flex;\n",
       "  align-items: stretch;\n",
       "  justify-content: center;\n",
       "  background-color: var(--sklearn-color-background);\n",
       "  position: relative;\n",
       "}\n",
       "\n",
       "#sk-container-id-1 div.sk-parallel-item {\n",
       "  display: flex;\n",
       "  flex-direction: column;\n",
       "}\n",
       "\n",
       "#sk-container-id-1 div.sk-parallel-item:first-child::after {\n",
       "  align-self: flex-end;\n",
       "  width: 50%;\n",
       "}\n",
       "\n",
       "#sk-container-id-1 div.sk-parallel-item:last-child::after {\n",
       "  align-self: flex-start;\n",
       "  width: 50%;\n",
       "}\n",
       "\n",
       "#sk-container-id-1 div.sk-parallel-item:only-child::after {\n",
       "  width: 0;\n",
       "}\n",
       "\n",
       "/* Serial-specific style estimator block */\n",
       "\n",
       "#sk-container-id-1 div.sk-serial {\n",
       "  display: flex;\n",
       "  flex-direction: column;\n",
       "  align-items: center;\n",
       "  background-color: var(--sklearn-color-background);\n",
       "  padding-right: 1em;\n",
       "  padding-left: 1em;\n",
       "}\n",
       "\n",
       "\n",
       "/* Toggleable style: style used for estimator/Pipeline/ColumnTransformer box that is\n",
       "clickable and can be expanded/collapsed.\n",
       "- Pipeline and ColumnTransformer use this feature and define the default style\n",
       "- Estimators will overwrite some part of the style using the `sk-estimator` class\n",
       "*/\n",
       "\n",
       "/* Pipeline and ColumnTransformer style (default) */\n",
       "\n",
       "#sk-container-id-1 div.sk-toggleable {\n",
       "  /* Default theme specific background. It is overwritten whether we have a\n",
       "  specific estimator or a Pipeline/ColumnTransformer */\n",
       "  background-color: var(--sklearn-color-background);\n",
       "}\n",
       "\n",
       "/* Toggleable label */\n",
       "#sk-container-id-1 label.sk-toggleable__label {\n",
       "  cursor: pointer;\n",
       "  display: block;\n",
       "  width: 100%;\n",
       "  margin-bottom: 0;\n",
       "  padding: 0.5em;\n",
       "  box-sizing: border-box;\n",
       "  text-align: center;\n",
       "}\n",
       "\n",
       "#sk-container-id-1 label.sk-toggleable__label-arrow:before {\n",
       "  /* Arrow on the left of the label */\n",
       "  content: \"▸\";\n",
       "  float: left;\n",
       "  margin-right: 0.25em;\n",
       "  color: var(--sklearn-color-icon);\n",
       "}\n",
       "\n",
       "#sk-container-id-1 label.sk-toggleable__label-arrow:hover:before {\n",
       "  color: var(--sklearn-color-text);\n",
       "}\n",
       "\n",
       "/* Toggleable content - dropdown */\n",
       "\n",
       "#sk-container-id-1 div.sk-toggleable__content {\n",
       "  max-height: 0;\n",
       "  max-width: 0;\n",
       "  overflow: hidden;\n",
       "  text-align: left;\n",
       "  /* unfitted */\n",
       "  background-color: var(--sklearn-color-unfitted-level-0);\n",
       "}\n",
       "\n",
       "#sk-container-id-1 div.sk-toggleable__content.fitted {\n",
       "  /* fitted */\n",
       "  background-color: var(--sklearn-color-fitted-level-0);\n",
       "}\n",
       "\n",
       "#sk-container-id-1 div.sk-toggleable__content pre {\n",
       "  margin: 0.2em;\n",
       "  border-radius: 0.25em;\n",
       "  color: var(--sklearn-color-text);\n",
       "  /* unfitted */\n",
       "  background-color: var(--sklearn-color-unfitted-level-0);\n",
       "}\n",
       "\n",
       "#sk-container-id-1 div.sk-toggleable__content.fitted pre {\n",
       "  /* unfitted */\n",
       "  background-color: var(--sklearn-color-fitted-level-0);\n",
       "}\n",
       "\n",
       "#sk-container-id-1 input.sk-toggleable__control:checked~div.sk-toggleable__content {\n",
       "  /* Expand drop-down */\n",
       "  max-height: 200px;\n",
       "  max-width: 100%;\n",
       "  overflow: auto;\n",
       "}\n",
       "\n",
       "#sk-container-id-1 input.sk-toggleable__control:checked~label.sk-toggleable__label-arrow:before {\n",
       "  content: \"▾\";\n",
       "}\n",
       "\n",
       "/* Pipeline/ColumnTransformer-specific style */\n",
       "\n",
       "#sk-container-id-1 div.sk-label input.sk-toggleable__control:checked~label.sk-toggleable__label {\n",
       "  color: var(--sklearn-color-text);\n",
       "  background-color: var(--sklearn-color-unfitted-level-2);\n",
       "}\n",
       "\n",
       "#sk-container-id-1 div.sk-label.fitted input.sk-toggleable__control:checked~label.sk-toggleable__label {\n",
       "  background-color: var(--sklearn-color-fitted-level-2);\n",
       "}\n",
       "\n",
       "/* Estimator-specific style */\n",
       "\n",
       "/* Colorize estimator box */\n",
       "#sk-container-id-1 div.sk-estimator input.sk-toggleable__control:checked~label.sk-toggleable__label {\n",
       "  /* unfitted */\n",
       "  background-color: var(--sklearn-color-unfitted-level-2);\n",
       "}\n",
       "\n",
       "#sk-container-id-1 div.sk-estimator.fitted input.sk-toggleable__control:checked~label.sk-toggleable__label {\n",
       "  /* fitted */\n",
       "  background-color: var(--sklearn-color-fitted-level-2);\n",
       "}\n",
       "\n",
       "#sk-container-id-1 div.sk-label label.sk-toggleable__label,\n",
       "#sk-container-id-1 div.sk-label label {\n",
       "  /* The background is the default theme color */\n",
       "  color: var(--sklearn-color-text-on-default-background);\n",
       "}\n",
       "\n",
       "/* On hover, darken the color of the background */\n",
       "#sk-container-id-1 div.sk-label:hover label.sk-toggleable__label {\n",
       "  color: var(--sklearn-color-text);\n",
       "  background-color: var(--sklearn-color-unfitted-level-2);\n",
       "}\n",
       "\n",
       "/* Label box, darken color on hover, fitted */\n",
       "#sk-container-id-1 div.sk-label.fitted:hover label.sk-toggleable__label.fitted {\n",
       "  color: var(--sklearn-color-text);\n",
       "  background-color: var(--sklearn-color-fitted-level-2);\n",
       "}\n",
       "\n",
       "/* Estimator label */\n",
       "\n",
       "#sk-container-id-1 div.sk-label label {\n",
       "  font-family: monospace;\n",
       "  font-weight: bold;\n",
       "  display: inline-block;\n",
       "  line-height: 1.2em;\n",
       "}\n",
       "\n",
       "#sk-container-id-1 div.sk-label-container {\n",
       "  text-align: center;\n",
       "}\n",
       "\n",
       "/* Estimator-specific */\n",
       "#sk-container-id-1 div.sk-estimator {\n",
       "  font-family: monospace;\n",
       "  border: 1px dotted var(--sklearn-color-border-box);\n",
       "  border-radius: 0.25em;\n",
       "  box-sizing: border-box;\n",
       "  margin-bottom: 0.5em;\n",
       "  /* unfitted */\n",
       "  background-color: var(--sklearn-color-unfitted-level-0);\n",
       "}\n",
       "\n",
       "#sk-container-id-1 div.sk-estimator.fitted {\n",
       "  /* fitted */\n",
       "  background-color: var(--sklearn-color-fitted-level-0);\n",
       "}\n",
       "\n",
       "/* on hover */\n",
       "#sk-container-id-1 div.sk-estimator:hover {\n",
       "  /* unfitted */\n",
       "  background-color: var(--sklearn-color-unfitted-level-2);\n",
       "}\n",
       "\n",
       "#sk-container-id-1 div.sk-estimator.fitted:hover {\n",
       "  /* fitted */\n",
       "  background-color: var(--sklearn-color-fitted-level-2);\n",
       "}\n",
       "\n",
       "/* Specification for estimator info (e.g. \"i\" and \"?\") */\n",
       "\n",
       "/* Common style for \"i\" and \"?\" */\n",
       "\n",
       ".sk-estimator-doc-link,\n",
       "a:link.sk-estimator-doc-link,\n",
       "a:visited.sk-estimator-doc-link {\n",
       "  float: right;\n",
       "  font-size: smaller;\n",
       "  line-height: 1em;\n",
       "  font-family: monospace;\n",
       "  background-color: var(--sklearn-color-background);\n",
       "  border-radius: 1em;\n",
       "  height: 1em;\n",
       "  width: 1em;\n",
       "  text-decoration: none !important;\n",
       "  margin-left: 1ex;\n",
       "  /* unfitted */\n",
       "  border: var(--sklearn-color-unfitted-level-1) 1pt solid;\n",
       "  color: var(--sklearn-color-unfitted-level-1);\n",
       "}\n",
       "\n",
       ".sk-estimator-doc-link.fitted,\n",
       "a:link.sk-estimator-doc-link.fitted,\n",
       "a:visited.sk-estimator-doc-link.fitted {\n",
       "  /* fitted */\n",
       "  border: var(--sklearn-color-fitted-level-1) 1pt solid;\n",
       "  color: var(--sklearn-color-fitted-level-1);\n",
       "}\n",
       "\n",
       "/* On hover */\n",
       "div.sk-estimator:hover .sk-estimator-doc-link:hover,\n",
       ".sk-estimator-doc-link:hover,\n",
       "div.sk-label-container:hover .sk-estimator-doc-link:hover,\n",
       ".sk-estimator-doc-link:hover {\n",
       "  /* unfitted */\n",
       "  background-color: var(--sklearn-color-unfitted-level-3);\n",
       "  color: var(--sklearn-color-background);\n",
       "  text-decoration: none;\n",
       "}\n",
       "\n",
       "div.sk-estimator.fitted:hover .sk-estimator-doc-link.fitted:hover,\n",
       ".sk-estimator-doc-link.fitted:hover,\n",
       "div.sk-label-container:hover .sk-estimator-doc-link.fitted:hover,\n",
       ".sk-estimator-doc-link.fitted:hover {\n",
       "  /* fitted */\n",
       "  background-color: var(--sklearn-color-fitted-level-3);\n",
       "  color: var(--sklearn-color-background);\n",
       "  text-decoration: none;\n",
       "}\n",
       "\n",
       "/* Span, style for the box shown on hovering the info icon */\n",
       ".sk-estimator-doc-link span {\n",
       "  display: none;\n",
       "  z-index: 9999;\n",
       "  position: relative;\n",
       "  font-weight: normal;\n",
       "  right: .2ex;\n",
       "  padding: .5ex;\n",
       "  margin: .5ex;\n",
       "  width: min-content;\n",
       "  min-width: 20ex;\n",
       "  max-width: 50ex;\n",
       "  color: var(--sklearn-color-text);\n",
       "  box-shadow: 2pt 2pt 4pt #999;\n",
       "  /* unfitted */\n",
       "  background: var(--sklearn-color-unfitted-level-0);\n",
       "  border: .5pt solid var(--sklearn-color-unfitted-level-3);\n",
       "}\n",
       "\n",
       ".sk-estimator-doc-link.fitted span {\n",
       "  /* fitted */\n",
       "  background: var(--sklearn-color-fitted-level-0);\n",
       "  border: var(--sklearn-color-fitted-level-3);\n",
       "}\n",
       "\n",
       ".sk-estimator-doc-link:hover span {\n",
       "  display: block;\n",
       "}\n",
       "\n",
       "/* \"?\"-specific style due to the `<a>` HTML tag */\n",
       "\n",
       "#sk-container-id-1 a.estimator_doc_link {\n",
       "  float: right;\n",
       "  font-size: 1rem;\n",
       "  line-height: 1em;\n",
       "  font-family: monospace;\n",
       "  background-color: var(--sklearn-color-background);\n",
       "  border-radius: 1rem;\n",
       "  height: 1rem;\n",
       "  width: 1rem;\n",
       "  text-decoration: none;\n",
       "  /* unfitted */\n",
       "  color: var(--sklearn-color-unfitted-level-1);\n",
       "  border: var(--sklearn-color-unfitted-level-1) 1pt solid;\n",
       "}\n",
       "\n",
       "#sk-container-id-1 a.estimator_doc_link.fitted {\n",
       "  /* fitted */\n",
       "  border: var(--sklearn-color-fitted-level-1) 1pt solid;\n",
       "  color: var(--sklearn-color-fitted-level-1);\n",
       "}\n",
       "\n",
       "/* On hover */\n",
       "#sk-container-id-1 a.estimator_doc_link:hover {\n",
       "  /* unfitted */\n",
       "  background-color: var(--sklearn-color-unfitted-level-3);\n",
       "  color: var(--sklearn-color-background);\n",
       "  text-decoration: none;\n",
       "}\n",
       "\n",
       "#sk-container-id-1 a.estimator_doc_link.fitted:hover {\n",
       "  /* fitted */\n",
       "  background-color: var(--sklearn-color-fitted-level-3);\n",
       "}\n",
       "</style><div id=\"sk-container-id-1\" class=\"sk-top-container\"><div class=\"sk-text-repr-fallback\"><pre>RandomForestClassifier(random_state=42)</pre><b>In a Jupyter environment, please rerun this cell to show the HTML representation or trust the notebook. <br />On GitHub, the HTML representation is unable to render, please try loading this page with nbviewer.org.</b></div><div class=\"sk-container\" hidden><div class=\"sk-item\"><div class=\"sk-estimator fitted sk-toggleable\"><input class=\"sk-toggleable__control sk-hidden--visually\" id=\"sk-estimator-id-1\" type=\"checkbox\" checked><label for=\"sk-estimator-id-1\" class=\"sk-toggleable__label fitted sk-toggleable__label-arrow fitted\">&nbsp;&nbsp;RandomForestClassifier<a class=\"sk-estimator-doc-link fitted\" rel=\"noreferrer\" target=\"_blank\" href=\"https://scikit-learn.org/1.5/modules/generated/sklearn.ensemble.RandomForestClassifier.html\">?<span>Documentation for RandomForestClassifier</span></a><span class=\"sk-estimator-doc-link fitted\">i<span>Fitted</span></span></label><div class=\"sk-toggleable__content fitted\"><pre>RandomForestClassifier(random_state=42)</pre></div> </div></div></div></div>"
      ],
      "text/plain": [
       "RandomForestClassifier(random_state=42)"
      ]
     },
     "execution_count": 39,
     "metadata": {},
     "output_type": "execute_result"
    }
   ],
   "source": [
    "# 6. Train a RandomForest model\n",
    "model = RandomForestClassifier(n_estimators=100, random_state=42)\n",
    "model.fit(X_train, y_train)"
   ]
  },
  {
   "cell_type": "code",
   "execution_count": 40,
   "metadata": {},
   "outputs": [
    {
     "name": "stdout",
     "output_type": "stream",
     "text": [
      "              precision    recall  f1-score   support\n",
      "\n",
      "           0       0.00      0.00      0.00         2\n",
      "           1       1.00      0.83      0.91        12\n",
      "           2       0.50      1.00      0.67         1\n",
      "           3       0.90      0.97      0.93        29\n",
      "\n",
      "    accuracy                           0.89        44\n",
      "   macro avg       0.60      0.70      0.63        44\n",
      "weighted avg       0.88      0.89      0.88        44\n",
      "\n"
     ]
    }
   ],
   "source": [
    "# 7. Evaluate\n",
    "preds = model.predict(X_test)\n",
    "print(classification_report(y_test, preds))"
   ]
  },
  {
   "cell_type": "code",
   "execution_count": 41,
   "metadata": {},
   "outputs": [],
   "source": [
    "def safe_label_transform(encoder, value):\n",
    "    value = value.lower().strip()\n",
    "    if value in encoder.classes_:\n",
    "        return encoder.transform([value])[0]\n",
    "    else:\n",
    "        print(f\"⚠️ Unseen value in encoder: {value}\")\n",
    "        return -1  # Or len(encoder.classes_) if you handled that in training"
   ]
  },
  {
   "cell_type": "code",
   "execution_count": 42,
   "metadata": {},
   "outputs": [
    {
     "name": "stdout",
     "output_type": "stream",
     "text": [
      "✅ Model trained and saved for conversion prediction!\n"
     ]
    }
   ],
   "source": [
    "# 8. Save model and vectorizers\n",
    "joblib.dump(model, \"lead_conversion_model.pkl\")\n",
    "joblib.dump(tfidf, \"tfidf_vectorizer.pkl\")\n",
    "print(\"✅ Model trained and saved for conversion prediction!\")\n"
   ]
  },
  {
   "cell_type": "code",
   "execution_count": 43,
   "metadata": {},
   "outputs": [
    {
     "name": "stdout",
     "output_type": "stream",
     "text": [
      "⚠️ Unseen value in encoder: cts\n"
     ]
    }
   ],
   "source": [
    "# Load encoders\n",
    "company_encoder = joblib.load(\"company_encoder.pkl\")\n",
    "location_encoder = joblib.load(\"location_encoder.pkl\")\n",
    "status_encoder = joblib.load(\"lead_status_encoder.pkl\")\n",
    "\n",
    "# Sample input lead\n",
    "lead = {\n",
    "    \"location\": \"Ambattur\",\n",
    "    \"company_name\": \"cts\",\n",
    "    \"lead_status\": \"warm\",\n",
    "    \"remarks\": \"waiting for start date confirmation\",\n",
    "    \"head_count\": 300,\n",
    "    \"client_budget\": 200,\n",
    "    \"contacted_before\": 1,\n",
    "    \"meeting_done\": 1\n",
    "}\n",
    "\n",
    "# Use actual values from the lead\n",
    "location = safe_label_transform(location_encoder, lead[\"location\"])\n",
    "company = safe_label_transform(company_encoder, lead[\"company_name\"])\n",
    "lead_status = safe_label_transform(status_encoder, lead[\"lead_status\"])\n",
    "# Transform remarks\n",
    "remarks_vector = tfidf.transform([lead[\"remarks\"]]).toarray()\n",
    "\n",
    "\n",
    "# Combine features\n",
    "feature_vector = np.hstack([\n",
    "    remarks_vector,\n",
    "    [[\n",
    "        location,\n",
    "        company,\n",
    "        lead_status,\n",
    "        lead[\"head_count\"],\n",
    "        lead[\"client_budget\"],\n",
    "        lead[\"contacted_before\"],\n",
    "        lead[\"meeting_done\"]\n",
    "    ]]\n",
    "])\n"
   ]
  },
  {
   "cell_type": "code",
   "execution_count": 44,
   "metadata": {},
   "outputs": [
    {
     "name": "stdout",
     "output_type": "stream",
     "text": [
      "['151 sidco 12 main road'\n",
      " '67 bazullah rd t nagar chennai tamil nadu 600017'\n",
      " '7th floor iifl tower 143 perungudi chennai 600096'\n",
      " 'alagappa roadvalsarakkam' 'alandur' 'ambattur' 'ambattur & gopalapuram'\n",
      " 'ambattur & mylapore' 'ambedkar roadsubbaraya nagarkodambakkam'\n",
      " 'aminjikarai' 'arumbakkam' 'ascendas 12th floortaramani' 'chetpet'\n",
      " 'coddissia coimbatore' 'coimbatore' 'dlframapuramchennai'\n",
      " 'dowlath towers 8th floortaylors rd kilpauk chennai' 'ecr' 'egmore'\n",
      " 'ennore' 'ennore express highway ernavoor chennai - 600057'\n",
      " 'fayola towers 3a 200 feet radial rd pallikaranai' 'gst road alanthur'\n",
      " 'guindy' 'guinty'\n",
      " 'hamid building 2nd floor anna street thousand lights chennai'\n",
      " 'iitm taramani' 'industrial estate ambattur' 'industrial estateambattur'\n",
      " 'irungattu kottai' 'irungatukottai' 'je' 'kandanchavadi' 'karapakkam'\n",
      " 'kodambakkam' 'kootturpuram' 'kuduvancherry'\n",
      " 'kundrathurar edaimedaithirumudipakkam'\n",
      " 'mahindra world city chengalpattu sengundram'\n",
      " 'mahindra world city thirutheri rfchennai'\n",
      " 'mambakkam sriperumbudur industrial estate' 'manikam lane guindy'\n",
      " 'medavakkam roadkovilampakkam'\n",
      " 'mohamed sathak college of arts and science(shollinganallur)' 'mylapore'\n",
      " 'nandhanam' 'near evp film citychembarampakkam' 'neelangarai'\n",
      " 'nelson manikam road'\n",
      " 'no 97 & 98 kattabomman streetparvathy nagar extnold perungalathurchennai'\n",
      " 'no31 brahmin street korattur' 'no:a-31 mepz-sez mepz west tambaram'\n",
      " 'noombal' 'numgampakkam' 'nungampakkam' 'omr'\n",
      " 'omr nehru nagar kottivakkam' 'oragadam' 'oragadamchengadpoonnamalli'\n",
      " 'orakkadu post sholavaram block sekkanjerired hillskaranodai'\n",
      " 'padi chennai tamil nadu 600058' 'pallavaram chennai -600044'\n",
      " 'pallikaranai' 'paprampakkam' 'perambur' 'perungudi'\n",
      " 'perungudi industrial estate' 'ponneri' 'poonamalle' 'poonamallechennai'\n",
      " 'poonamallee' 'porur' 'purasaivakkam' 'puthulakkam' 'rayapettomravadi'\n",
      " 'riveira park 4th main rd ext adyar house kotturpuram'\n",
      " 'rmz business millinea park campus 1c perungudi thandhi tv building'\n",
      " 'rmz millenia tech park' 'royapettah' 'sairam collage tambaram'\n",
      " 'saitapet' 'santhom' 'saravanampattigandhipuramcoimbatore'\n",
      " 'savitha dental college poonamallee high road'\n",
      " 'sidco industrial estate ambattur' 'sidco industrial estate poonamalle'\n",
      " 'sidco industrial estate thirumudivakkam' 'sipcot irungattu kottai'\n",
      " 'siruseri' 'spenzer plaza' 'sriperumpadur' 't nagar' 'tambaram mepz'\n",
      " 'tambaram mylapore chromepet medawalkam perumbur santhome marina beach saidapet tambaram leprosy hospital'\n",
      " 'taramani' 'teynampet' 'teynapet' 'tharamani' 'thirumalisai'\n",
      " 'thirumudivakkam' 'thirumullavayil'\n",
      " 'thiruvallur high rd sai nagar ambattur industrial estate chennai'\n",
      " 'thiruvanmiyur' 'thousand light aregreams roadchennai' 'thousand lights'\n",
      " 'unknown' 'uthamar gandhi salai  nungambakkam' 'west mambalam'\n",
      " \"workez -the address fourth floor 'b’ block no203/10b200 feet mmrd road zamin pallavaram chennai -600044\"]\n"
     ]
    }
   ],
   "source": [
    "print(location_encoder.classes_)"
   ]
  },
  {
   "cell_type": "code",
   "execution_count": 45,
   "metadata": {},
   "outputs": [
    {
     "name": "stdout",
     "output_type": "stream",
     "text": [
      "Feature vector shape: (1, 107)\n",
      "TF-IDF top words: ['ask' 'ask send' 'asked' 'asked menu' 'asked shared' 'budget' 'card'\n",
      " 'carry' 'cash' 'cash carry']\n"
     ]
    }
   ],
   "source": [
    "print(\"Feature vector shape:\", feature_vector.shape)\n",
    "print(\"TF-IDF top words:\", tfidf.get_feature_names_out()[:10])\n"
   ]
  },
  {
   "cell_type": "code",
   "execution_count": 46,
   "metadata": {},
   "outputs": [
    {
     "name": "stdout",
     "output_type": "stream",
     "text": [
      "converted_num\n",
      "3    145\n",
      "1     52\n",
      "2     12\n",
      "0     11\n",
      "Name: count, dtype: int64\n"
     ]
    }
   ],
   "source": [
    "print(df[\"converted_num\"].value_counts())"
   ]
  },
  {
   "cell_type": "code",
   "execution_count": 47,
   "metadata": {},
   "outputs": [
    {
     "name": "stdout",
     "output_type": "stream",
     "text": [
      "{0, 1, 2, 3}\n"
     ]
    }
   ],
   "source": [
    "print(set(y))"
   ]
  },
  {
   "cell_type": "code",
   "execution_count": null,
   "metadata": {},
   "outputs": [],
   "source": [
    "probs = model.predict_proba(feature_vector)[0]\n",
    "# Class label mapping (match your training label encoding!)\n",
    "label_map = {\n",
    "    1: \"✅ Converted (80:20)\",\n",
    "    2: \"🕗 In Progress (60:40)\",\n",
    "    3: \"🧊 New (30:70)\",\n",
    "    0: \"❌ Not Interested (20:80)\"\n",
    "}\n",
    "\n",
    "# Print results in a sorted order (optional: most likely first)\n",
    "sorted_indices = np.argsort(probs)[::-1]\n",
    "print(\"🔍 Lead Prediction Breakdown:\")\n",
    "for idx in sorted_indices:\n",
    "    label = label_map.get(idx, f\"Class {idx}\")\n",
    "    print(f\"{label} ➤ {probs[idx] * 100:.1f}%\")"
   ]
  },
  {
   "cell_type": "code",
   "execution_count": null,
   "metadata": {},
   "outputs": [],
   "source": [
    "final_class = np.argmax(probs)\n",
    "final_label = label_map[final_class]\n",
    "print(f\"\\n🎯 Final Predicted Status: {final_label}\")\n"
   ]
  },
  {
   "cell_type": "markdown",
   "metadata": {},
   "source": [
    "#B2C Lead"
   ]
  },
  {
   "cell_type": "code",
   "execution_count": null,
   "metadata": {},
   "outputs": [],
   "source": [
    "# Load once\n",
    "lead_model = joblib.load(\"lead_conversion_model.pkl\")\n",
    "company_encoder = joblib.load(\"company_encoder.pkl\")\n",
    "location_encoder = joblib.load(\"location_encoder.pkl\")\n",
    "status_encoder = joblib.load(\"lead_status_encoder.pkl\")\n",
    "tfidf = joblib.load(\"tfidf_vectorizer.pkl\")\n",
    "\n",
    "def safe_label_transform(encoder, value):\n",
    "    if value in encoder.classes_:\n",
    "        return encoder.transform([value])[0]\n",
    "    return -1\n",
    "\n",
    "def calculate_lead_score(lead):\n",
    "    try:\n",
    "        location = safe_label_transform(location_encoder, lead.delivery_location)\n",
    "        company = safe_label_transform(company_encoder, lead.company_name)\n",
    "        lead_status = safe_label_transform(status_encoder, lead.lead_status)\n",
    "        remarks_vector = tfidf.transform([lead.remarks or \"\"]).toarray()\n",
    "\n",
    "        # Combine features\n",
    "        feature_vector = np.hstack([\n",
    "            remarks_vector,\n",
    "            [[\n",
    "                location,\n",
    "                company,\n",
    "                lead_status,\n",
    "                lead.count or 0,\n",
    "                lead.prefered_menu_budget or 0,\n",
    "            ]]\n",
    "        ])\n",
    "\n",
    "        score = lead_model.predict_proba(feature_vector)[0][1]\n",
    "        return round(score * 100, 2)\n",
    "    except Exception as e:\n",
    "        print(f\"⚠️ Failed to calculate lead score for lead {lead.id}: {str(e)}\")\n",
    "        return 0.0"
   ]
  }
 ],
 "metadata": {
  "kernelspec": {
   "display_name": ".venv",
   "language": "python",
   "name": "python3"
  },
  "language_info": {
   "codemirror_mode": {
    "name": "ipython",
    "version": 3
   },
   "file_extension": ".py",
   "mimetype": "text/x-python",
   "name": "python",
   "nbconvert_exporter": "python",
   "pygments_lexer": "ipython3",
   "version": "3.12.1"
  }
 },
 "nbformat": 4,
 "nbformat_minor": 2
}
